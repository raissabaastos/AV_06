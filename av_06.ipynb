{
 "cells": [
  {
   "cell_type": "markdown",
   "metadata": {},
   "source": [
    "## Exercício 1\n",
    "![alt text]({BCEEEDE8-B885-4341-BC3C-07161436D846}.png)"
   ]
  },
  {
   "cell_type": "code",
   "execution_count": 30,
   "metadata": {},
   "outputs": [
    {
     "name": "stdout",
     "output_type": "stream",
     "text": [
      "Tempo de processamento: 0.012599799999406969\n"
     ]
    }
   ],
   "source": [
    "import timeit\n",
    "\n",
    "\n",
    "n = 100000000\n",
    "x = list(range(n))\n",
    "#print(\"Vetor:\", x)\n",
    "alpha = 2\n",
    "for i in range(n):\n",
    "  x[i] = alpha * x[i]\n",
    "#print(\"Vetor x escalar:\", x)\n",
    "tempo_p1 = timeit.timeit()\n",
    "print(\"Tempo de processamento:\", tempo_p1)"
   ]
  },
  {
   "cell_type": "code",
   "execution_count": 29,
   "metadata": {},
   "outputs": [
    {
     "name": "stdout",
     "output_type": "stream",
     "text": [
      "Tempo de processamento com numpy: 0.012623700000403915\n"
     ]
    }
   ],
   "source": [
    "import numpy as np\n",
    "x = np.arange(n)\n",
    "x = alpha * x\n",
    "tempo_p2 = timeit.timeit()\n",
    "print(\"Tempo de processamento com numpy:\", tempo_p2)\n"
   ]
  },
  {
   "cell_type": "code",
   "execution_count": null,
   "metadata": {},
   "outputs": [],
   "source": []
  },
  {
   "cell_type": "markdown",
   "metadata": {},
   "source": [
    "## Exercício 2\n",
    "![alt text]({AA761B84-F34B-4B3A-91C1-E215C2F1E23B}.png)"
   ]
  },
  {
   "cell_type": "code",
   "execution_count": null,
   "metadata": {},
   "outputs": [],
   "source": []
  },
  {
   "cell_type": "markdown",
   "metadata": {},
   "source": [
    "## Exercício 3 \n",
    "![alt text]({CB36E9B9-D399-4C78-8D81-331A2961E26B}.png)"
   ]
  },
  {
   "cell_type": "code",
   "execution_count": null,
   "metadata": {},
   "outputs": [],
   "source": []
  }
 ],
 "metadata": {
  "kernelspec": {
   "display_name": "base",
   "language": "python",
   "name": "python3"
  },
  "language_info": {
   "codemirror_mode": {
    "name": "ipython",
    "version": 3
   },
   "file_extension": ".py",
   "mimetype": "text/x-python",
   "name": "python",
   "nbconvert_exporter": "python",
   "pygments_lexer": "ipython3",
   "version": "3.12.7"
  }
 },
 "nbformat": 4,
 "nbformat_minor": 2
}
